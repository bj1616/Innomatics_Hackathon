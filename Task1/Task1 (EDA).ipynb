{
 "cells": [
  {
   "cell_type": "code",
   "execution_count": 27,
   "id": "ef382968",
   "metadata": {},
   "outputs": [],
   "source": [
    "import pandas as pd\n",
    "import matplotlib.pyplot as plt\n",
    "import seaborn as sns"
   ]
  },
  {
   "cell_type": "code",
   "execution_count": 28,
   "id": "2a6daf5f",
   "metadata": {
    "scrolled": true
   },
   "outputs": [
    {
     "data": {
      "text/html": [
       "<div>\n",
       "<style scoped>\n",
       "    .dataframe tbody tr th:only-of-type {\n",
       "        vertical-align: middle;\n",
       "    }\n",
       "\n",
       "    .dataframe tbody tr th {\n",
       "        vertical-align: top;\n",
       "    }\n",
       "\n",
       "    .dataframe thead th {\n",
       "        text-align: right;\n",
       "    }\n",
       "</style>\n",
       "<table border=\"1\" class=\"dataframe\">\n",
       "  <thead>\n",
       "    <tr style=\"text-align: right;\">\n",
       "      <th></th>\n",
       "      <th>online_order</th>\n",
       "      <th>book_table</th>\n",
       "      <th>rate</th>\n",
       "      <th>votes</th>\n",
       "      <th>rest_type</th>\n",
       "      <th>dish_liked</th>\n",
       "      <th>cuisines</th>\n",
       "      <th>approx_costfor_two_people</th>\n",
       "      <th>listed_intype</th>\n",
       "      <th>listed_incity</th>\n",
       "    </tr>\n",
       "  </thead>\n",
       "  <tbody>\n",
       "    <tr>\n",
       "      <th>0</th>\n",
       "      <td>Yes</td>\n",
       "      <td>Yes</td>\n",
       "      <td>4.1/5</td>\n",
       "      <td>775</td>\n",
       "      <td>Casual Dining</td>\n",
       "      <td>Pasta, Lunch Buffet, Masala Papad, Paneer Laja...</td>\n",
       "      <td>North Indian, Mughlai, Chinese</td>\n",
       "      <td>800</td>\n",
       "      <td>Buffet</td>\n",
       "      <td>Banashankari</td>\n",
       "    </tr>\n",
       "    <tr>\n",
       "      <th>1</th>\n",
       "      <td>Yes</td>\n",
       "      <td>No</td>\n",
       "      <td>4.1/5</td>\n",
       "      <td>787</td>\n",
       "      <td>Casual Dining</td>\n",
       "      <td>Momos, Lunch Buffet, Chocolate Nirvana, Thai G...</td>\n",
       "      <td>Chinese, North Indian, Thai</td>\n",
       "      <td>800</td>\n",
       "      <td>Buffet</td>\n",
       "      <td>Banashankari</td>\n",
       "    </tr>\n",
       "    <tr>\n",
       "      <th>2</th>\n",
       "      <td>Yes</td>\n",
       "      <td>No</td>\n",
       "      <td>3.8/5</td>\n",
       "      <td>918</td>\n",
       "      <td>Cafe, Casual Dining</td>\n",
       "      <td>Churros, Cannelloni, Minestrone Soup, Hot Choc...</td>\n",
       "      <td>Cafe, Mexican, Italian</td>\n",
       "      <td>800</td>\n",
       "      <td>Buffet</td>\n",
       "      <td>Banashankari</td>\n",
       "    </tr>\n",
       "    <tr>\n",
       "      <th>3</th>\n",
       "      <td>No</td>\n",
       "      <td>No</td>\n",
       "      <td>3.7/5</td>\n",
       "      <td>88</td>\n",
       "      <td>Quick Bites</td>\n",
       "      <td>Masala Dosa</td>\n",
       "      <td>South Indian, North Indian</td>\n",
       "      <td>300</td>\n",
       "      <td>Buffet</td>\n",
       "      <td>Banashankari</td>\n",
       "    </tr>\n",
       "    <tr>\n",
       "      <th>4</th>\n",
       "      <td>No</td>\n",
       "      <td>No</td>\n",
       "      <td>3.8/5</td>\n",
       "      <td>166</td>\n",
       "      <td>Casual Dining</td>\n",
       "      <td>Panipuri, Gol Gappe</td>\n",
       "      <td>North Indian, Rajasthani</td>\n",
       "      <td>600</td>\n",
       "      <td>Buffet</td>\n",
       "      <td>Banashankari</td>\n",
       "    </tr>\n",
       "  </tbody>\n",
       "</table>\n",
       "</div>"
      ],
      "text/plain": [
       "  online_order book_table   rate  votes            rest_type  \\\n",
       "0          Yes        Yes  4.1/5    775        Casual Dining   \n",
       "1          Yes         No  4.1/5    787        Casual Dining   \n",
       "2          Yes         No  3.8/5    918  Cafe, Casual Dining   \n",
       "3           No         No  3.7/5     88          Quick Bites   \n",
       "4           No         No  3.8/5    166        Casual Dining   \n",
       "\n",
       "                                          dish_liked  \\\n",
       "0  Pasta, Lunch Buffet, Masala Papad, Paneer Laja...   \n",
       "1  Momos, Lunch Buffet, Chocolate Nirvana, Thai G...   \n",
       "2  Churros, Cannelloni, Minestrone Soup, Hot Choc...   \n",
       "3                                        Masala Dosa   \n",
       "4                                Panipuri, Gol Gappe   \n",
       "\n",
       "                         cuisines approx_costfor_two_people listed_intype  \\\n",
       "0  North Indian, Mughlai, Chinese                       800        Buffet   \n",
       "1     Chinese, North Indian, Thai                       800        Buffet   \n",
       "2          Cafe, Mexican, Italian                       800        Buffet   \n",
       "3      South Indian, North Indian                       300        Buffet   \n",
       "4        North Indian, Rajasthani                       600        Buffet   \n",
       "\n",
       "  listed_incity  \n",
       "0  Banashankari  \n",
       "1  Banashankari  \n",
       "2  Banashankari  \n",
       "3  Banashankari  \n",
       "4  Banashankari  "
      ]
     },
     "execution_count": 28,
     "metadata": {},
     "output_type": "execute_result"
    }
   ],
   "source": [
    "df = pd.read_csv(\"zomato_data.csv\")\n",
    "df.head()"
   ]
  },
  {
   "cell_type": "code",
   "execution_count": 29,
   "id": "9eace9f9",
   "metadata": {},
   "outputs": [
    {
     "data": {
      "text/plain": [
       "(51717, 10)"
      ]
     },
     "execution_count": 29,
     "metadata": {},
     "output_type": "execute_result"
    }
   ],
   "source": [
    "df.shape"
   ]
  },
  {
   "cell_type": "code",
   "execution_count": 88,
   "id": "d0714394",
   "metadata": {},
   "outputs": [
    {
     "data": {
      "text/plain": [
       "online_order                  object\n",
       "book_table                    object\n",
       "rate                         float64\n",
       "votes                        float64\n",
       "rest_type                     object\n",
       "dish_liked                    object\n",
       "cuisines                      object\n",
       "approx_costfor_two_people    float64\n",
       "listed_intype                 object\n",
       "listed_incity                 object\n",
       "dtype: object"
      ]
     },
     "execution_count": 88,
     "metadata": {},
     "output_type": "execute_result"
    }
   ],
   "source": [
    "df.dtypes"
   ]
  },
  {
   "cell_type": "markdown",
   "id": "5d8d5478",
   "metadata": {},
   "source": [
    "## Text Preprocessing"
   ]
  },
  {
   "cell_type": "code",
   "execution_count": 90,
   "id": "6ab98861",
   "metadata": {},
   "outputs": [],
   "source": [
    "#converting datatypes of approx_costfor_two_people columns into float\n",
    "df[\"approx_costfor_two_people\"] = df[\"approx_costfor_two_people\"].replace(\",\",\"\")\n",
    "df[\"approx_costfor_two_people\"] = df[\"approx_costfor_two_people\"].astype('float64')"
   ]
  },
  {
   "cell_type": "code",
   "execution_count": 91,
   "id": "986691ae",
   "metadata": {},
   "outputs": [],
   "source": [
    "#converting the rate column in float\n",
    "df[\"rate\"] = df[\"rate\"].replace(\"/5\",0)\n",
    "df[\"rate\"]  = df[\"rate\"].replace(\"NEW\",0)\n",
    "df[\"rate\"] = df[\"rate\"].replace(\"\",0)\n",
    "df[\"rate\"] = df[\"rate\"].astype(\"float64\")"
   ]
  },
  {
   "cell_type": "code",
   "execution_count": 92,
   "id": "3295c52f",
   "metadata": {},
   "outputs": [],
   "source": [
    "#converting the votes column in float\n",
    "df[\"votes\"] = df[\"votes\"].astype(\"float64\")"
   ]
  },
  {
   "cell_type": "markdown",
   "id": "9ba51bf6",
   "metadata": {},
   "source": [
    "## Performing EDA"
   ]
  },
  {
   "cell_type": "code",
   "execution_count": 30,
   "id": "fd68c74d",
   "metadata": {},
   "outputs": [],
   "source": [
    "value = r'\\bNorth[-_\\s]Indian\\b'"
   ]
  },
  {
   "cell_type": "markdown",
   "id": "ba91729e",
   "metadata": {},
   "source": [
    "### Total no. of restaurant serving north Indian cuisines "
   ]
  },
  {
   "cell_type": "code",
   "execution_count": 31,
   "id": "beaefbd9",
   "metadata": {},
   "outputs": [
    {
     "data": {
      "text/plain": [
       "21085"
      ]
     },
     "execution_count": 31,
     "metadata": {},
     "output_type": "execute_result"
    }
   ],
   "source": [
    "len(df[df[\"cuisines\"].str.contains(value,na = False)]) "
   ]
  },
  {
   "cell_type": "markdown",
   "id": "8310b14b",
   "metadata": {},
   "source": [
    "### The city in bangalore with the highest average cost of dining"
   ]
  },
  {
   "cell_type": "code",
   "execution_count": 54,
   "id": "d4d672c0",
   "metadata": {},
   "outputs": [
    {
     "data": {
      "text/html": [
       "<div>\n",
       "<style scoped>\n",
       "    .dataframe tbody tr th:only-of-type {\n",
       "        vertical-align: middle;\n",
       "    }\n",
       "\n",
       "    .dataframe tbody tr th {\n",
       "        vertical-align: top;\n",
       "    }\n",
       "\n",
       "    .dataframe thead th {\n",
       "        text-align: right;\n",
       "    }\n",
       "</style>\n",
       "<table border=\"1\" class=\"dataframe\">\n",
       "  <thead>\n",
       "    <tr style=\"text-align: right;\">\n",
       "      <th></th>\n",
       "      <th>online_order</th>\n",
       "      <th>book_table</th>\n",
       "      <th>rate</th>\n",
       "      <th>votes</th>\n",
       "      <th>rest_type</th>\n",
       "      <th>dish_liked</th>\n",
       "      <th>cuisines</th>\n",
       "      <th>approx_costfor_two_people</th>\n",
       "      <th>listed_intype</th>\n",
       "      <th>listed_incity</th>\n",
       "    </tr>\n",
       "  </thead>\n",
       "  <tbody>\n",
       "    <tr>\n",
       "      <th>19139</th>\n",
       "      <td>No</td>\n",
       "      <td>Yes</td>\n",
       "      <td>4.3/5</td>\n",
       "      <td>126</td>\n",
       "      <td>Fine Dining</td>\n",
       "      <td>Wine, Asparagus Soup, Creme Brulee, Pasta, Rav...</td>\n",
       "      <td>French, Italian</td>\n",
       "      <td>6000.0</td>\n",
       "      <td>Dine-out</td>\n",
       "      <td>Indiranagar</td>\n",
       "    </tr>\n",
       "    <tr>\n",
       "      <th>45618</th>\n",
       "      <td>No</td>\n",
       "      <td>Yes</td>\n",
       "      <td>4.3 /5</td>\n",
       "      <td>128</td>\n",
       "      <td>Fine Dining</td>\n",
       "      <td>Wine, Asparagus Soup, Creme Brulee, Pasta, Rav...</td>\n",
       "      <td>French, Italian</td>\n",
       "      <td>6000.0</td>\n",
       "      <td>Dine-out</td>\n",
       "      <td>Old Airport Road</td>\n",
       "    </tr>\n",
       "  </tbody>\n",
       "</table>\n",
       "</div>"
      ],
      "text/plain": [
       "      online_order book_table    rate  votes    rest_type  \\\n",
       "19139           No        Yes   4.3/5    126  Fine Dining   \n",
       "45618           No        Yes  4.3 /5    128  Fine Dining   \n",
       "\n",
       "                                              dish_liked         cuisines  \\\n",
       "19139  Wine, Asparagus Soup, Creme Brulee, Pasta, Rav...  French, Italian   \n",
       "45618  Wine, Asparagus Soup, Creme Brulee, Pasta, Rav...  French, Italian   \n",
       "\n",
       "       approx_costfor_two_people listed_intype     listed_incity  \n",
       "19139                     6000.0      Dine-out       Indiranagar  \n",
       "45618                     6000.0      Dine-out  Old Airport Road  "
      ]
     },
     "execution_count": 54,
     "metadata": {},
     "output_type": "execute_result"
    }
   ],
   "source": [
    "df[df[\"approx_costfor_two_people\"] == df[\"approx_costfor_two_people\"].max()] #optional"
   ]
  },
  {
   "cell_type": "code",
   "execution_count": 55,
   "id": "2798465f",
   "metadata": {},
   "outputs": [
    {
     "data": {
      "text/plain": [
       "listed_incity\n",
       "BTM                      2500.0\n",
       "Banashankari             1500.0\n",
       "Bannerghatta Road        1700.0\n",
       "Basavanagudi             2200.0\n",
       "Bellandur                2500.0\n",
       "Brigade Road             4000.0\n",
       "Brookefield              3000.0\n",
       "Church Street            4000.0\n",
       "Electronic City          3000.0\n",
       "Frazer Town              3000.0\n",
       "HSR                      2000.0\n",
       "Indiranagar              6000.0\n",
       "JP Nagar                 1700.0\n",
       "Jayanagar                1700.0\n",
       "Kalyan Nagar             1800.0\n",
       "Kammanahalli             2000.0\n",
       "Koramangala 4th Block    3000.0\n",
       "Koramangala 5th Block    2500.0\n",
       "Koramangala 6th Block    2500.0\n",
       "Koramangala 7th Block    2500.0\n",
       "Lavelle Road             4100.0\n",
       "MG Road                  4000.0\n",
       "Malleshwaram             5000.0\n",
       "Marathahalli             4500.0\n",
       "New BEL Road             2000.0\n",
       "Old Airport Road         6000.0\n",
       "Rajajinagar              2600.0\n",
       "Residency Road           4000.0\n",
       "Sarjapur Road            2500.0\n",
       "Whitefield               3000.0\n",
       "Name: approx_costfor_two_people, dtype: float64"
      ]
     },
     "execution_count": 55,
     "metadata": {},
     "output_type": "execute_result"
    }
   ],
   "source": [
    "df.groupby(\"listed_incity\")[\"approx_costfor_two_people\"].max()  # Indiranagar"
   ]
  },
  {
   "cell_type": "markdown",
   "id": "ea340277",
   "metadata": {},
   "source": [
    "### Restaurant type which has the top rating over 1000 votes"
   ]
  },
  {
   "cell_type": "code",
   "execution_count": 103,
   "id": "1b398da4",
   "metadata": {},
   "outputs": [
    {
     "data": {
      "text/html": [
       "<div>\n",
       "<style scoped>\n",
       "    .dataframe tbody tr th:only-of-type {\n",
       "        vertical-align: middle;\n",
       "    }\n",
       "\n",
       "    .dataframe tbody tr th {\n",
       "        vertical-align: top;\n",
       "    }\n",
       "\n",
       "    .dataframe thead th {\n",
       "        text-align: right;\n",
       "    }\n",
       "</style>\n",
       "<table border=\"1\" class=\"dataframe\">\n",
       "  <thead>\n",
       "    <tr style=\"text-align: right;\">\n",
       "      <th></th>\n",
       "      <th>votes</th>\n",
       "      <th>rate</th>\n",
       "    </tr>\n",
       "    <tr>\n",
       "      <th>rest_type</th>\n",
       "      <th></th>\n",
       "      <th></th>\n",
       "    </tr>\n",
       "  </thead>\n",
       "  <tbody>\n",
       "    <tr>\n",
       "      <th>Bakery</th>\n",
       "      <td>1161.0</td>\n",
       "      <td>4.8</td>\n",
       "    </tr>\n",
       "    <tr>\n",
       "      <th>Bakery, Beverage Shop</th>\n",
       "      <td>4.0</td>\n",
       "      <td>3.2</td>\n",
       "    </tr>\n",
       "    <tr>\n",
       "      <th>Bakery, Cafe</th>\n",
       "      <td>5352.0</td>\n",
       "      <td>4.4</td>\n",
       "    </tr>\n",
       "    <tr>\n",
       "      <th>Bakery, Dessert Parlor</th>\n",
       "      <td>506.0</td>\n",
       "      <td>4.3</td>\n",
       "    </tr>\n",
       "    <tr>\n",
       "      <th>Bakery, Food Court</th>\n",
       "      <td>38.0</td>\n",
       "      <td>3.2</td>\n",
       "    </tr>\n",
       "    <tr>\n",
       "      <th>...</th>\n",
       "      <td>...</td>\n",
       "      <td>...</td>\n",
       "    </tr>\n",
       "    <tr>\n",
       "      <th>Sweet Shop</th>\n",
       "      <td>1077.0</td>\n",
       "      <td>4.4</td>\n",
       "    </tr>\n",
       "    <tr>\n",
       "      <th>Sweet Shop, Dessert Parlor</th>\n",
       "      <td>0.0</td>\n",
       "      <td>NaN</td>\n",
       "    </tr>\n",
       "    <tr>\n",
       "      <th>Sweet Shop, Quick Bites</th>\n",
       "      <td>377.0</td>\n",
       "      <td>4.3</td>\n",
       "    </tr>\n",
       "    <tr>\n",
       "      <th>Takeaway</th>\n",
       "      <td>154.0</td>\n",
       "      <td>4.2</td>\n",
       "    </tr>\n",
       "    <tr>\n",
       "      <th>Takeaway, Delivery</th>\n",
       "      <td>1054.0</td>\n",
       "      <td>4.5</td>\n",
       "    </tr>\n",
       "  </tbody>\n",
       "</table>\n",
       "<p>93 rows × 2 columns</p>\n",
       "</div>"
      ],
      "text/plain": [
       "                             votes  rate\n",
       "rest_type                               \n",
       "Bakery                      1161.0   4.8\n",
       "Bakery, Beverage Shop          4.0   3.2\n",
       "Bakery, Cafe                5352.0   4.4\n",
       "Bakery, Dessert Parlor       506.0   4.3\n",
       "Bakery, Food Court            38.0   3.2\n",
       "...                            ...   ...\n",
       "Sweet Shop                  1077.0   4.4\n",
       "Sweet Shop, Dessert Parlor     0.0   NaN\n",
       "Sweet Shop, Quick Bites      377.0   4.3\n",
       "Takeaway                     154.0   4.2\n",
       "Takeaway, Delivery          1054.0   4.5\n",
       "\n",
       "[93 rows x 2 columns]"
      ]
     },
     "execution_count": 103,
     "metadata": {},
     "output_type": "execute_result"
    }
   ],
   "source": [
    "df.groupby(\"rest_type\")[[\"votes\",\"rate\"]].max()  # Bakery"
   ]
  },
  {
   "cell_type": "code",
   "execution_count": 104,
   "id": "88065c1b",
   "metadata": {
    "scrolled": true
   },
   "outputs": [
    {
     "data": {
      "text/html": [
       "<div>\n",
       "<style scoped>\n",
       "    .dataframe tbody tr th:only-of-type {\n",
       "        vertical-align: middle;\n",
       "    }\n",
       "\n",
       "    .dataframe tbody tr th {\n",
       "        vertical-align: top;\n",
       "    }\n",
       "\n",
       "    .dataframe thead th {\n",
       "        text-align: right;\n",
       "    }\n",
       "</style>\n",
       "<table border=\"1\" class=\"dataframe\">\n",
       "  <thead>\n",
       "    <tr style=\"text-align: right;\">\n",
       "      <th></th>\n",
       "      <th>online_order</th>\n",
       "      <th>book_table</th>\n",
       "      <th>rate</th>\n",
       "      <th>votes</th>\n",
       "      <th>rest_type</th>\n",
       "      <th>dish_liked</th>\n",
       "      <th>cuisines</th>\n",
       "      <th>approx_costfor_two_people</th>\n",
       "      <th>listed_intype</th>\n",
       "      <th>listed_incity</th>\n",
       "    </tr>\n",
       "  </thead>\n",
       "  <tbody>\n",
       "    <tr>\n",
       "      <th>0</th>\n",
       "      <td>Yes</td>\n",
       "      <td>Yes</td>\n",
       "      <td>4.1</td>\n",
       "      <td>775.0</td>\n",
       "      <td>Casual Dining</td>\n",
       "      <td>Pasta, Lunch Buffet, Masala Papad, Paneer Laja...</td>\n",
       "      <td>North Indian, Mughlai, Chinese</td>\n",
       "      <td>800.0</td>\n",
       "      <td>Buffet</td>\n",
       "      <td>Banashankari</td>\n",
       "    </tr>\n",
       "    <tr>\n",
       "      <th>1</th>\n",
       "      <td>Yes</td>\n",
       "      <td>No</td>\n",
       "      <td>4.1</td>\n",
       "      <td>787.0</td>\n",
       "      <td>Casual Dining</td>\n",
       "      <td>Momos, Lunch Buffet, Chocolate Nirvana, Thai G...</td>\n",
       "      <td>Chinese, North Indian, Thai</td>\n",
       "      <td>800.0</td>\n",
       "      <td>Buffet</td>\n",
       "      <td>Banashankari</td>\n",
       "    </tr>\n",
       "    <tr>\n",
       "      <th>2</th>\n",
       "      <td>Yes</td>\n",
       "      <td>No</td>\n",
       "      <td>3.8</td>\n",
       "      <td>918.0</td>\n",
       "      <td>Cafe, Casual Dining</td>\n",
       "      <td>Churros, Cannelloni, Minestrone Soup, Hot Choc...</td>\n",
       "      <td>Cafe, Mexican, Italian</td>\n",
       "      <td>800.0</td>\n",
       "      <td>Buffet</td>\n",
       "      <td>Banashankari</td>\n",
       "    </tr>\n",
       "    <tr>\n",
       "      <th>3</th>\n",
       "      <td>No</td>\n",
       "      <td>No</td>\n",
       "      <td>3.7</td>\n",
       "      <td>88.0</td>\n",
       "      <td>Quick Bites</td>\n",
       "      <td>Masala Dosa</td>\n",
       "      <td>South Indian, North Indian</td>\n",
       "      <td>300.0</td>\n",
       "      <td>Buffet</td>\n",
       "      <td>Banashankari</td>\n",
       "    </tr>\n",
       "    <tr>\n",
       "      <th>4</th>\n",
       "      <td>No</td>\n",
       "      <td>No</td>\n",
       "      <td>3.8</td>\n",
       "      <td>166.0</td>\n",
       "      <td>Casual Dining</td>\n",
       "      <td>Panipuri, Gol Gappe</td>\n",
       "      <td>North Indian, Rajasthani</td>\n",
       "      <td>600.0</td>\n",
       "      <td>Buffet</td>\n",
       "      <td>Banashankari</td>\n",
       "    </tr>\n",
       "  </tbody>\n",
       "</table>\n",
       "</div>"
      ],
      "text/plain": [
       "  online_order book_table  rate  votes            rest_type  \\\n",
       "0          Yes        Yes   4.1  775.0        Casual Dining   \n",
       "1          Yes         No   4.1  787.0        Casual Dining   \n",
       "2          Yes         No   3.8  918.0  Cafe, Casual Dining   \n",
       "3           No         No   3.7   88.0          Quick Bites   \n",
       "4           No         No   3.8  166.0        Casual Dining   \n",
       "\n",
       "                                          dish_liked  \\\n",
       "0  Pasta, Lunch Buffet, Masala Papad, Paneer Laja...   \n",
       "1  Momos, Lunch Buffet, Chocolate Nirvana, Thai G...   \n",
       "2  Churros, Cannelloni, Minestrone Soup, Hot Choc...   \n",
       "3                                        Masala Dosa   \n",
       "4                                Panipuri, Gol Gappe   \n",
       "\n",
       "                         cuisines  approx_costfor_two_people listed_intype  \\\n",
       "0  North Indian, Mughlai, Chinese                      800.0        Buffet   \n",
       "1     Chinese, North Indian, Thai                      800.0        Buffet   \n",
       "2          Cafe, Mexican, Italian                      800.0        Buffet   \n",
       "3      South Indian, North Indian                      300.0        Buffet   \n",
       "4        North Indian, Rajasthani                      600.0        Buffet   \n",
       "\n",
       "  listed_incity  \n",
       "0  Banashankari  \n",
       "1  Banashankari  \n",
       "2  Banashankari  \n",
       "3  Banashankari  \n",
       "4  Banashankari  "
      ]
     },
     "execution_count": 104,
     "metadata": {},
     "output_type": "execute_result"
    }
   ],
   "source": [
    "df.head()"
   ]
  },
  {
   "cell_type": "markdown",
   "id": "cea5cec5",
   "metadata": {},
   "source": [
    "### How much does it cost at minimum to eat out in Bangalore"
   ]
  },
  {
   "cell_type": "code",
   "execution_count": 129,
   "id": "c8a6636a",
   "metadata": {},
   "outputs": [
    {
     "data": {
      "text/plain": [
       "555.4315664479959"
      ]
     },
     "execution_count": 129,
     "metadata": {},
     "output_type": "execute_result"
    }
   ],
   "source": [
    "df[\"approx_costfor_two_people\"].mean()  "
   ]
  },
  {
   "cell_type": "markdown",
   "id": "304350f1",
   "metadata": {},
   "source": [
    "### What percentage of total online orders is received by restaurants in Banashankari?"
   ]
  },
  {
   "cell_type": "code",
   "execution_count": 178,
   "id": "dc23c68a",
   "metadata": {},
   "outputs": [
    {
     "data": {
      "text/plain": [
       "online_order  listed_incity        \n",
       "No            BTM                      1148\n",
       "              Koramangala 7th Block    1135\n",
       "              Koramangala 5th Block    1060\n",
       "              Lavelle Road             1002\n",
       "              Koramangala 4th Block     987\n",
       "              Koramangala 6th Block     955\n",
       "              MG Road                   947\n",
       "              Church Street             939\n",
       "              Residency Road            916\n",
       "              Brigade Road              853\n",
       "              Indiranagar               791\n",
       "              Jayanagar                 782\n",
       "              Whitefield                761\n",
       "              JP Nagar                  757\n",
       "              Marathahalli              707\n",
       "              Electronic City           665\n",
       "              Old Airport Road          619\n",
       "              Bannerghatta Road         607\n",
       "              HSR                       555\n",
       "              Kammanahalli              552\n",
       "              Brookefield               552\n",
       "              Rajajinagar               539\n",
       "              Kalyan Nagar              528\n",
       "              Sarjapur Road             485\n",
       "              Basavanagudi              472\n",
       "              Frazer Town               472\n",
       "              Malleshwaram              433\n",
       "              Bellandur                 406\n",
       "              New BEL Road              331\n",
       "              Banashankari              317\n",
       "Yes           BTM                      2131\n",
       "              Koramangala 7th Block    1803\n",
       "              Koramangala 4th Block    1792\n",
       "              Koramangala 5th Block    1776\n",
       "              Koramangala 6th Block    1668\n",
       "              Jayanagar                1589\n",
       "              JP Nagar                 1339\n",
       "              HSR                      1186\n",
       "              Indiranagar              1069\n",
       "              Bannerghatta Road        1010\n",
       "              Brookefield               966\n",
       "              Marathahalli              952\n",
       "              Brigade Road              916\n",
       "              Church Street             888\n",
       "              MG Road                   864\n",
       "              Whitefield                859\n",
       "              Bellandur                 821\n",
       "              Old Airport Road          806\n",
       "              Basavanagudi              794\n",
       "              Kalyan Nagar              781\n",
       "              Kammanahalli              777\n",
       "              Sarjapur Road             776\n",
       "              Lavelle Road              742\n",
       "              Frazer Town               713\n",
       "              Residency Road            704\n",
       "              Malleshwaram              663\n",
       "              Electronic City           564\n",
       "              Banashankari              546\n",
       "              Rajajinagar               540\n",
       "              New BEL Road              409\n",
       "Name: count, dtype: int64"
      ]
     },
     "execution_count": 178,
     "metadata": {},
     "output_type": "execute_result"
    }
   ],
   "source": [
    "df.groupby(\"online_order\")[\"listed_incity\"].value_counts()  # Total no. of order inline booked in banashankari is 546"
   ]
  },
  {
   "cell_type": "code",
   "execution_count": 179,
   "id": "aa26a8b6",
   "metadata": {
    "scrolled": true
   },
   "outputs": [
    {
     "data": {
      "text/plain": [
       "listed_incity\n",
       "BTM                      3279\n",
       "Koramangala 7th Block    2938\n",
       "Koramangala 5th Block    2836\n",
       "Koramangala 4th Block    2779\n",
       "Koramangala 6th Block    2623\n",
       "Jayanagar                2371\n",
       "JP Nagar                 2096\n",
       "Indiranagar              1860\n",
       "Church Street            1827\n",
       "MG Road                  1811\n",
       "Brigade Road             1769\n",
       "Lavelle Road             1744\n",
       "HSR                      1741\n",
       "Marathahalli             1659\n",
       "Residency Road           1620\n",
       "Whitefield               1620\n",
       "Bannerghatta Road        1617\n",
       "Brookefield              1518\n",
       "Old Airport Road         1425\n",
       "Kammanahalli             1329\n",
       "Kalyan Nagar             1309\n",
       "Basavanagudi             1266\n",
       "Sarjapur Road            1261\n",
       "Electronic City          1229\n",
       "Bellandur                1227\n",
       "Frazer Town              1185\n",
       "Malleshwaram             1096\n",
       "Rajajinagar              1079\n",
       "Banashankari              863\n",
       "New BEL Road              740\n",
       "Name: count, dtype: int64"
      ]
     },
     "execution_count": 179,
     "metadata": {},
     "output_type": "execute_result"
    }
   ],
   "source": [
    "df[\"listed_incity\"].value_counts()      # total occurence of Banashankari is 863"
   ]
  },
  {
   "cell_type": "code",
   "execution_count": 184,
   "id": "d78f86f6",
   "metadata": {},
   "outputs": [
    {
     "name": "stdout",
     "output_type": "stream",
     "text": [
      "63.268%\n"
     ]
    }
   ],
   "source": [
    "percent_of_online_order_received = print(f\"{round(546/863 * 100,3)}%\")\n",
    "percent_of_online_order_received    "
   ]
  },
  {
   "cell_type": "markdown",
   "id": "c7151831",
   "metadata": {},
   "source": [
    "### Which locality has the most restaurants with over 500 votes and a rating of below 3.0"
   ]
  },
  {
   "cell_type": "code",
   "execution_count": 140,
   "id": "6cdb504f",
   "metadata": {},
   "outputs": [
    {
     "data": {
      "text/plain": [
       "listed_incity\n",
       "Brookefield              8\n",
       "Whitefield               6\n",
       "Indiranagar              4\n",
       "Old Airport Road         4\n",
       "Bellandur                3\n",
       "Marathahalli             3\n",
       "Banashankari             2\n",
       "Koramangala 4th Block    2\n",
       "Koramangala 5th Block    2\n",
       "Koramangala 6th Block    2\n",
       "Koramangala 7th Block    2\n",
       "Sarjapur Road            2\n",
       "HSR                      1\n",
       "Kalyan Nagar             1\n",
       "Kammanahalli             1\n",
       "Name: count, dtype: int64"
      ]
     },
     "execution_count": 140,
     "metadata": {},
     "output_type": "execute_result"
    }
   ],
   "source": [
    "df[(df[\"votes\"] > 500.0) & (df[\"rate\"] < 3.0)][\"listed_incity\"].value_counts()  # Brookefield"
   ]
  },
  {
   "cell_type": "markdown",
   "id": "85057f6d",
   "metadata": {},
   "source": [
    "### Which locality in Bangalore should Zomato target for expansion based on restaurant type diversity?"
   ]
  },
  {
   "cell_type": "code",
   "execution_count": 142,
   "id": "aa0f3662",
   "metadata": {},
   "outputs": [
    {
     "data": {
      "text/plain": [
       "listed_intype  listed_incity \n",
       "Buffet         Lavelle Road      65\n",
       "               Church Street     60\n",
       "               Residency Road    59\n",
       "               Brigade Road      57\n",
       "               MG Road           54\n",
       "                                 ..\n",
       "Pubs and bars  Malleshwaram      20\n",
       "               Sarjapur Road     20\n",
       "               Bellandur         19\n",
       "               Frazer Town       16\n",
       "               New BEL Road       7\n",
       "Name: count, Length: 195, dtype: int64"
      ]
     },
     "execution_count": 142,
     "metadata": {},
     "output_type": "execute_result"
    }
   ],
   "source": [
    "df.groupby(\"listed_intype\")[\"listed_incity\"].value_counts()  # Brigade Road"
   ]
  },
  {
   "cell_type": "markdown",
   "id": "d68da461",
   "metadata": {},
   "source": [
    "### What's the average cost difference between buffet and delivery restaurants?"
   ]
  },
  {
   "cell_type": "code",
   "execution_count": 144,
   "id": "6e9ce3bf",
   "metadata": {},
   "outputs": [
    {
     "data": {
      "text/plain": [
       "array(['Buffet', 'Cafes', 'Delivery', 'Desserts', 'Dine-out',\n",
       "       'Drinks & nightlife', 'Pubs and bars'], dtype=object)"
      ]
     },
     "execution_count": 144,
     "metadata": {},
     "output_type": "execute_result"
    }
   ],
   "source": [
    "df[\"listed_intype\"].unique()"
   ]
  },
  {
   "cell_type": "code",
   "execution_count": 149,
   "id": "4867a480",
   "metadata": {},
   "outputs": [],
   "source": [
    "avg_cost_buffet = df[df[\"listed_intype\"] == \"Buffet\"][\"approx_costfor_two_people\"].mean()"
   ]
  },
  {
   "cell_type": "code",
   "execution_count": 153,
   "id": "83bdf73c",
   "metadata": {},
   "outputs": [],
   "source": [
    "avg_cost_delivery = df[df[\"listed_intype\"] == \"Delivery\"][\"approx_costfor_two_people\"].mean()"
   ]
  },
  {
   "cell_type": "code",
   "execution_count": 154,
   "id": "e5864fc4",
   "metadata": {
    "scrolled": true
   },
   "outputs": [
    {
     "data": {
      "text/plain": [
       "842.1711122180861"
      ]
     },
     "execution_count": 154,
     "metadata": {},
     "output_type": "execute_result"
    }
   ],
   "source": [
    "avg_cost_diff = avg_cost_buffet - avg_cost_delivery\n",
    "avg_cost_diff"
   ]
  },
  {
   "cell_type": "markdown",
   "id": "aec92ccb",
   "metadata": {},
   "source": [
    "### What is the maximum number of votes received by any restaurant with online ordering?"
   ]
  },
  {
   "cell_type": "code",
   "execution_count": 155,
   "id": "fbce16dd",
   "metadata": {},
   "outputs": [
    {
     "data": {
      "text/plain": [
       "online_order\n",
       "No     14956.0\n",
       "Yes    16832.0\n",
       "Name: votes, dtype: float64"
      ]
     },
     "execution_count": 155,
     "metadata": {},
     "output_type": "execute_result"
    }
   ],
   "source": [
    "df.groupby(\"online_order\")[\"votes\"].max()   # 16832"
   ]
  },
  {
   "cell_type": "markdown",
   "id": "3f109424",
   "metadata": {},
   "source": [
    "### What is the average rating of restaurants that serve both North Indian and Chinese cuisines?"
   ]
  },
  {
   "cell_type": "code",
   "execution_count": 163,
   "id": "23ff6619",
   "metadata": {},
   "outputs": [
    {
     "data": {
      "text/plain": [
       "3.4543073208509862"
      ]
     },
     "execution_count": 163,
     "metadata": {},
     "output_type": "execute_result"
    }
   ],
   "source": [
    "pattern = r'\\bNorth[-_\\s]?Indian\\b|\\bChinese\\b'\n",
    "\n",
    "df[df[\"cuisines\"].str.contains(pattern,na=False)].rate.mean()   # 3.45 ~ 3.5"
   ]
  },
  {
   "cell_type": "markdown",
   "id": "de940e8c",
   "metadata": {},
   "source": [
    "### What is the most profitable area for Zomato based on potential revenue estimation?"
   ]
  },
  {
   "cell_type": "code",
   "execution_count": 164,
   "id": "9879e746",
   "metadata": {},
   "outputs": [],
   "source": [
    "df[\"Profit_earned\"] = (df[\"approx_costfor_two_people\"]*df[\"votes\"]*df[\"rate\"]) - 0.30"
   ]
  },
  {
   "cell_type": "code",
   "execution_count": 166,
   "id": "0526472b",
   "metadata": {},
   "outputs": [
    {
     "data": {
      "text/plain": [
       "listed_incity\n",
       "BTM                       68576759.7\n",
       "Banashankari              16117199.7\n",
       "Bannerghatta Road         30356479.7\n",
       "Basavanagudi              21685439.7\n",
       "Bellandur                128144799.7\n",
       "Brigade Road              75374999.7\n",
       "Brookefield               77561279.7\n",
       "Church Street             75437999.7\n",
       "Electronic City            7891359.7\n",
       "Frazer Town               48671699.7\n",
       "HSR                       42459479.7\n",
       "Indiranagar              105439799.7\n",
       "JP Nagar                  50207359.7\n",
       "Jayanagar                 50583679.7\n",
       "Kalyan Nagar              14346639.7\n",
       "Kammanahalli              21049599.7\n",
       "Koramangala 4th Block     69109739.7\n",
       "Koramangala 5th Block     69287399.7\n",
       "Koramangala 6th Block     69359779.7\n",
       "Koramangala 7th Block     69418999.7\n",
       "Lavelle Road              75644999.7\n",
       "MG Road                   75725999.7\n",
       "Malleshwaram              50826879.7\n",
       "Marathahalli              93089279.7\n",
       "New BEL Road              22492869.7\n",
       "Old Airport Road          77003999.7\n",
       "Rajajinagar               50965459.7\n",
       "Residency Road            75770999.7\n",
       "Sarjapur Road            131962879.7\n",
       "Whitefield                79681919.7\n",
       "Name: Profit_earned, dtype: float64"
      ]
     },
     "execution_count": 166,
     "metadata": {},
     "output_type": "execute_result"
    }
   ],
   "source": [
    "df.groupby(\"listed_incity\")[\"Profit_earned\"].max()   # Bellandur(is in option)"
   ]
  },
  {
   "cell_type": "markdown",
   "id": "633a2504",
   "metadata": {},
   "source": [
    "### If Zomato wants to reduce customer complaints, which restaurant type should they focus on?"
   ]
  },
  {
   "cell_type": "code",
   "execution_count": 174,
   "id": "923fbd97",
   "metadata": {},
   "outputs": [
    {
     "data": {
      "text/plain": [
       "rate  rest_type         \n",
       "0.0   Quick Bites           1129\n",
       "      Casual Dining          264\n",
       "      Takeaway, Delivery     180\n",
       "      Cafe                   122\n",
       "      Delivery               111\n",
       "                            ... \n",
       "4.8   Pub                      2\n",
       "4.9   Casual Dining, Bar      19\n",
       "      Casual Dining           16\n",
       "      Dessert Parlor          14\n",
       "      Microbrewery             6\n",
       "Name: count, Length: 789, dtype: int64"
      ]
     },
     "execution_count": 174,
     "metadata": {},
     "output_type": "execute_result"
    }
   ],
   "source": [
    "df.groupby([\"rate\"])[\"rest_type\"].value_counts()  #Quick Bites"
   ]
  },
  {
   "cell_type": "markdown",
   "id": "902fea5f",
   "metadata": {},
   "source": [
    "### In which area should Zomato invest by considering high rating (rate > 4.2), high number of votes (> 500) and including online orders?"
   ]
  },
  {
   "cell_type": "code",
   "execution_count": 177,
   "id": "4d6630fa",
   "metadata": {},
   "outputs": [
    {
     "data": {
      "text/plain": [
       "listed_incity\n",
       "Koramangala 7th Block    97\n",
       "MG Road                  97\n",
       "Church Street            95\n",
       "Koramangala 4th Block    95\n",
       "Brigade Road             94\n",
       "Koramangala 5th Block    92\n",
       "BTM                      91\n",
       "Koramangala 6th Block    90\n",
       "Lavelle Road             82\n",
       "Residency Road           81\n",
       "Indiranagar              80\n",
       "Old Airport Road         64\n",
       "Frazer Town              56\n",
       "Jayanagar                56\n",
       "Bellandur                55\n",
       "Whitefield               44\n",
       "Sarjapur Road            43\n",
       "HSR                      41\n",
       "JP Nagar                 38\n",
       "Brookefield              34\n",
       "Marathahalli             32\n",
       "Malleshwaram             31\n",
       "Basavanagudi             24\n",
       "Kammanahalli             23\n",
       "Kalyan Nagar             23\n",
       "Rajajinagar              22\n",
       "Bannerghatta Road        19\n",
       "Banashankari             11\n",
       "New BEL Road              9\n",
       "Electronic City           7\n",
       "Name: count, dtype: int64"
      ]
     },
     "execution_count": 177,
     "metadata": {},
     "output_type": "execute_result"
    }
   ],
   "source": [
    "df[(df[\"votes\"] > 500.0) & (df[\"rate\"] > 4.2) & (df[\"online_order\"] == \"Yes\")][\"listed_incity\"].value_counts()\n",
    "#Koramangala 7th Block"
   ]
  },
  {
   "cell_type": "code",
   "execution_count": null,
   "id": "cc1385bc",
   "metadata": {},
   "outputs": [],
   "source": []
  }
 ],
 "metadata": {
  "kernelspec": {
   "display_name": "Python 3 (ipykernel)",
   "language": "python",
   "name": "python3"
  },
  "language_info": {
   "codemirror_mode": {
    "name": "ipython",
    "version": 3
   },
   "file_extension": ".py",
   "mimetype": "text/x-python",
   "name": "python",
   "nbconvert_exporter": "python",
   "pygments_lexer": "ipython3",
   "version": "3.11.5"
  }
 },
 "nbformat": 4,
 "nbformat_minor": 5
}
